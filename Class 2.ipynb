{
 "cells": [
  {
   "cell_type": "code",
   "execution_count": 2,
   "id": "fd2582e7-111a-405d-bab7-d55b6be0b070",
   "metadata": {},
   "outputs": [],
   "source": [
    "# Simplified implementation of stack (relying on built-ins):\n",
    "\n",
    "class stack:\n",
    "    def __init__(self):\n",
    "        self.items = []  #python list\n",
    "\n",
    "    def push(self, value):\n",
    "        self.items.append(value)\n",
    "\n",
    "    def pop(self):\n",
    "        return self.items.pop()\n",
    "\n",
    "    #Nice to have methods\n",
    "    def size(self):\n",
    "        return len(self.items)\n",
    "\n",
    "    def peek(self):\n",
    "        return self.items[len(self.itmes)-1]\n",
    "\n",
    "    def is_empty(self):\n",
    "        return self.items== []"
   ]
  },
  {
   "cell_type": "markdown",
   "id": "d10d6bfd-7e5b-45e2-8708-f488aff65335",
   "metadata": {},
   "source": [
    "# Problem 2:\n",
    "Considering the reversal property of stacks, create a function that uses the `Stack` class above to invert a string.\n",
    "\n",
    "```\n",
    "Examples:\n",
    "invert_str(\"Corey\") should return \"yeroC\"\n",
    "invert_str(\"Star\") should return \"ratS\"\n",
    "invert_str(\"hello\") should reurn \"olleh\"\n",
    "```\n",
    "\n",
    "# Note\n",
    "Googling this one may not help as we *must* use the stack class in the previous cell (google will not have our stack class)."
   ]
  },
  {
   "cell_type": "code",
   "execution_count": 6,
   "id": "c02176d2-5ad5-43eb-a6c7-8a43d57f7156",
   "metadata": {},
   "outputs": [],
   "source": [
    "def invert_str(corey):\n",
    "    stack = Stack()\n",
    "    for char in corey:\n",
    "        stack.push(cahr)\n",
    "    out = \"\"\n",
    "    while not stack.it_emptty():\n",
    "        out += stack.pop() # this is the same as: out = out + stack.pop()\n",
    "    return out"
   ]
  },
  {
   "cell_type": "code",
   "execution_count": null,
   "id": "382317c6-3935-4d76-a5a8-feb6788ab77c",
   "metadata": {},
   "outputs": [],
   "source": [
    "# From scratch implementation of stack\n",
    "\n",
    "class StackII\n",
    "    def __init__(self):\n",
    "        self.top = None\n",
    "\n",
    "    class __Node:\n",
    "        def __init__(self, data):\n",
    "            self.data = data\n",
    "            self.below = None\n",
    "\n",
    "    def push(self, value):\n",
    "        new_node = self.__Node(value)\n",
    "        if not self.top:\n",
    "            self.top = new_node\n",
    "        else:\n",
    "            old_top = self.top\n",
    "            self.top = new_node\n",
    "            self.top.below = old_top\n",
    "\n",
    "    def pop(self):\n",
    "        if self.top:\n",
    "            datum = self.top.data\n",
    "            self.top = self.top.below\n",
    "            return datum\n",
    "        raise IndexError(\"Stack is empty\")\n",
    "\n",
    "    # Nice methods to have:\n",
    "    def peek(self):\n",
    "        pass #this should return the data element at the topmpost position (Node) without removnig that node\n",
    "\n",
    "    def size(self):\n",
    "        pass\n",
    "\n",
    "    def is_empty(self):\n",
    "        return self.top == None"
   ]
  }
 ],
 "metadata": {
  "kernelspec": {
   "display_name": "Python 3 (ipykernel)",
   "language": "python",
   "name": "python3"
  },
  "language_info": {
   "codemirror_mode": {
    "name": "ipython",
    "version": 3
   },
   "file_extension": ".py",
   "mimetype": "text/x-python",
   "name": "python",
   "nbconvert_exporter": "python",
   "pygments_lexer": "ipython3",
   "version": "3.10.12"
  }
 },
 "nbformat": 4,
 "nbformat_minor": 5
}
