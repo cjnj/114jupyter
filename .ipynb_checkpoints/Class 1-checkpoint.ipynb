{
 "cells": [
  {
   "cell_type": "code",
   "execution_count": 2,
   "id": "357f59a1-a046-48ac-9cad-7627cc26f10f",
   "metadata": {},
   "outputs": [
    {
     "ename": "SyntaxError",
     "evalue": "invalid syntax (1884342484.py, line 1)",
     "output_type": "error",
     "traceback": [
      "\u001b[0;36m  Cell \u001b[0;32mIn[2], line 1\u001b[0;36m\u001b[0m\n\u001b[0;31m    for each char in \"hello world\":\u001b[0m\n\u001b[0m             ^\u001b[0m\n\u001b[0;31mSyntaxError\u001b[0m\u001b[0;31m:\u001b[0m invalid syntax\n"
     ]
    }
   ],
   "source": [
    "for each char in \"hello world\":\n",
    "    print(char)"
   ]
  },
  {
   "cell_type": "code",
   "execution_count": 4,
   "id": "e4cc4d26-50bb-47d4-a4bf-0b088bee6cff",
   "metadata": {},
   "outputs": [
    {
     "name": "stdout",
     "output_type": "stream",
     "text": [
      "h\n",
      "e\n",
      "l\n",
      "l\n",
      "o\n",
      " \n",
      "w\n",
      "o\n",
      "r\n",
      "l\n",
      "d\n"
     ]
    }
   ],
   "source": [
    "for char in \"hello world\":\n",
    "        print(char)"
   ]
  },
  {
   "cell_type": "markdown",
   "id": "d09167a0-764b-4b97-80c7-f747edd94434",
   "metadata": {},
   "source": [
    "# problem 1\n",
    "\n",
    "## Anagram check\n",
    "given two strings create a funtion that returns 'True' if there are anagrams of each other, False\n",
    "\n",
    "### Acceptance Critera\n",
    "Two strings are anagrams of each other if all the criteria below are met:\n",
    "1. They must use the same letters the same amount of times.\n",
    "2. They must be of equal length.\n",
    "\n",
    "```\n",
    "Examples:\n",
    "anagram_check(\"earth\", \"heart\") returns True\n",
    "anagram_check(\"star\", \"rats\") returns True\n",
    "anagram_check(\"cars\", \"scar\") returns True\n",
    "```"
   ]
  },
  {
   "cell_type": "markdown",
   "id": "3a97698d-0e80-4f0c-873e-0d8fba6e8e28",
   "metadata": {},
   "source": [
    "# Pseudocode for  anagram check function\n",
    "```\n",
    "define my function anagram_check which recieves parameters str1 and str2:\n",
    "    #first thing I need to do is level the playing field and remove spaces\n",
    "    str1 = str1 without spaces\n",
    "    str2 = str2 without spaces\n",
    "    str1 = str1 in lower case\n",
    "    str2 = str2 in lower case\n",
    "    if the length of str1 is not equal to the length of str2:\n",
    "        return fasle\n",
    "    otherwise:\n",
    "        # I would like to track which letter I've seen and how many times\n",
    "        dic_1 = new dictionary\n",
    "        dic_2 = new dictionary\n",
    "        for each number in the range from 0 to the length of str1:\n",
    "            if the letter at position 0 in str1 is in dict_1:\n",
    "                add 1 to the total number of times Ive seen that letter\n",
    "            otherwise:\n",
    "                create a new entry in dict_1 with that letter and the value set to 1\n",
    "            if the letter at postion 0 in str2 is in dict_2:\n",
    "                add 2 to the total nnumber of times i've sen that letter\n",
    "            otherwise:\n",
    "                create a new entry in dict_2 with that letter and the value set to 1 c\n",
    "    return dic_1 == dict_2\n",
    "\n",
    "```\n",
    "\n",
    "# challenge for you : Turn this pusedocode into real python3 code!\n"
   ]
  },
  {
   "cell_type": "code",
   "execution_count": null,
   "id": "2c4bb264-5774-4d57-8746-293959363c60",
   "metadata": {},
   "outputs": [],
   "source": []
  }
 ],
 "metadata": {
  "kernelspec": {
   "display_name": "Python 3 (ipykernel)",
   "language": "python",
   "name": "python3"
  },
  "language_info": {
   "codemirror_mode": {
    "name": "ipython",
    "version": 3
   },
   "file_extension": ".py",
   "mimetype": "text/x-python",
   "name": "python",
   "nbconvert_exporter": "python",
   "pygments_lexer": "ipython3",
   "version": "3.10.12"
  }
 },
 "nbformat": 4,
 "nbformat_minor": 5
}
