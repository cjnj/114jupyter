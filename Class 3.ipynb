{
 "cells": [
  {
   "cell_type": "code",
   "execution_count": null,
   "id": "b045f8fe-e3ed-47ff-8b87-2824cd5a0529",
   "metadata": {},
   "outputs": [],
   "source": [
    "# A simplified impolementation of a Queue (using Build-ins\n",
    "\n",
    "class Queue:\n",
    "    def __init__(self):\n",
    "        self.items = []\n",
    "\n",
    "    def enqueue(self, value):\n",
    "        self,items.insert(0, value)\n",
    "\n",
    "    def dequeue(self):\n",
    "        return self.items.pop()\n",
    "\n",
    "    # NIce to methods:\n",
    "\n",
    "    def size(self):\n",
    "        return len(self.items)\n",
    "\n",
    "    def peek(self):\n",
    "        return self.items[len(self.items)-1]\n",
    "\n",
    "    def is_empty(self):\n",
    "        return self.items == []\n",
    "        "
   ]
  },
  {
   "cell_type": "markdown",
   "id": "b2138129-ea47-4e64-bc2c-cdb3b591010f",
   "metadata": {},
   "source": [
    "# problem 4:\n",
    "\n",
    "## Create a \"from scratch\" implementaiton of Queue, including , at minimum \"enqueue\" and \"dequeue\" as its methods\n",
    "\n",
    "### Your class should be named Queuell\n",
    "\n",
    "Define my class Node:\n",
    "Define attribute data with initial value none\n",
    "Define attribute next with initial value none\n",
    "\n",
    "define my class Queuell \n",
    "define attribute front with initial value none\n",
    "define attribute rear with initial value none\n",
    "Define enqueue method with parameter “value”:\n",
    "\tnew_node = new instance of Node with “data” set to “value”\n",
    "\tif my queue is empty:\n",
    "\t  update self .front to point to new_node\n",
    "\t  update self .rear to point to new_node\n",
    "\totherwise:#the queue is not empty\n",
    "\t  self.rear.next=new_node\n",
    "\t  self.rear=new node\n",
    "Defiune dequeue method:\n",
    "  if the self.front reference is not pointing to None# this means there ae nodes in the queue\n",
    "  datum = the data element stored at the front node\n",
    "  self.front= the next node in line\n",
    "  return datum\n",
    "otherwise:\n",
    "  display an error because the queue is empty\n",
    "\n",
    "\n",
    "\n"
   ]
  },
  {
   "cell_type": "code",
   "execution_count": null,
   "id": "821d0940-8163-404d-8b95-33e3ce9d4ac0",
   "metadata": {},
   "outputs": [],
   "source": [
    "class QueueII\n",
    "    def __init__(self):\n",
    "        self.front = []None\n",
    "        self.rear = None\n",
    "\n",
    "    def enqueue(self, value):\n",
    "        new_node = Node()\n",
    "        new_node.data = value\n",
    "        if self.is_empty():\n",
    "            self.front = new_node\n",
    "            delf.rear = new_node\n",
    "        \n",
    "        else:\n",
    "            self.rear.next = new_node\n",
    "        \n",
    "\n",
    "    def dequeue(self):\n",
    "        return self.items.pop\n",
    "\n",
    "\n",
    "\n",
    "    "
   ]
  },
  {
   "cell_type": "code",
   "execution_count": 3,
   "id": "1004c457-393c-45b5-a781-a5a879db850d",
   "metadata": {},
   "outputs": [],
   "source": [
    "#Recursive Functions\n",
    "# A recursive function is one that calls itself at least once within it's code\n",
    "\n",
    "# A ver simple example:\n",
    "# The factorial function\n",
    "\n",
    "def factorial (n):\n",
    "    if n == 0:\n",
    "        return 1\n",
    "    return n*factorial(n-1)\n",
    "\n",
    "# 5! = 5x4x3x2x1\n",
    "# 0! = 1"
   ]
  },
  {
   "cell_type": "code",
   "execution_count": 4,
   "id": "e332293b-820d-492f-a1e2-742b575b1459",
   "metadata": {},
   "outputs": [
    {
     "data": {
      "text/plain": [
       "3628800"
      ]
     },
     "execution_count": 4,
     "metadata": {},
     "output_type": "execute_result"
    }
   ],
   "source": [
    "factorial(10)\n",
    "\n",
    "# 5! = 5x4!\n",
    "# 4! = 4x3!"
   ]
  },
  {
   "cell_type": "code",
   "execution_count": 9,
   "id": "c0834b18-c985-4179-b76b-4d306bc15929",
   "metadata": {},
   "outputs": [
    {
     "data": {
      "text/plain": [
       "6254449428820551641549772190170184190608177514674331726439961915653414425"
      ]
     },
     "execution_count": 9,
     "metadata": {},
     "output_type": "execute_result"
    }
   ],
   "source": [
    "# Fibonacci funciton\n",
    "\n",
    "# F0 = 0; F1 = 1\n",
    "# Fn = Fn-1 + Fn-2\n",
    "\n",
    "# 1, 1, 2, 3, 5, 8, 13, 21\n",
    "\n",
    "from functools import lru_cache\n",
    "\n",
    "@lru_cache\n",
    "def fib(n):\n",
    "    if n < 2:\n",
    "        return n\n",
    "    return fib(n-1) + fib(n-2)\n",
    "\n",
    "fib(350)"
   ]
  },
  {
   "cell_type": "code",
   "execution_count": null,
   "id": "fd636f68-7004-4265-9dc9-b3f17e011cb7",
   "metadata": {},
   "outputs": [],
   "source": []
  }
 ],
 "metadata": {
  "kernelspec": {
   "display_name": "Python 3 (ipykernel)",
   "language": "python",
   "name": "python3"
  },
  "language_info": {
   "codemirror_mode": {
    "name": "ipython",
    "version": 3
   },
   "file_extension": ".py",
   "mimetype": "text/x-python",
   "name": "python",
   "nbconvert_exporter": "python",
   "pygments_lexer": "ipython3",
   "version": "3.10.12"
  }
 },
 "nbformat": 4,
 "nbformat_minor": 5
}
